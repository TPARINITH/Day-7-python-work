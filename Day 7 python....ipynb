{
 "cells": [
  {
   "cell_type": "markdown",
   "metadata": {},
   "source": [
    "# PROBLEM SOLVING PROGRAMMING\n",
    "\n",
    "## DAY NO- 7\n",
    "\n",
    "## DATE- 10th MAY,2019"
   ]
  },
  {
   "cell_type": "markdown",
   "metadata": {},
   "source": [
    "## DAY OBJECTIVES\n",
    "\n",
    "1. OBJECTIVE--1\n",
    "2. OBJECTIVE--2\n",
    "3. OBJECTIVE--3"
   ]
  },
  {
   "cell_type": "markdown",
   "metadata": {},
   "source": [
    "### PROBLEM 1:\n",
    "\n",
    "#### PROBLEM STATEMENT:\n",
    "\n",
    "Finding Greatest Of Three Numbers ?"
   ]
  },
  {
   "cell_type": "markdown",
   "metadata": {},
   "source": [
    "* test case 1\n",
    "* test case 2\n",
    "* test case 3\n"
   ]
  },
  {
   "cell_type": "code",
   "execution_count": null,
   "metadata": {},
   "outputs": [],
   "source": [
    "a= int(input(\"enter the 1st number\"))\n",
    "b= int(input(\"enter the 2nd number\"))\n",
    "c= int(input(\"enter the 3rd number\"))\n",
    "if((a>b)and(a>c)):\n",
    "    print(\"a is greater\"  )\n",
    "elif((b>a)and(b>c)):\n",
    "    print(\"b is greater\"  )\n",
    "else:\n",
    "    print(\"c ic greater\"  )"
   ]
  },
  {
   "cell_type": "markdown",
   "metadata": {},
   "source": [
    "### PROBLEM 2:\n",
    "\n",
    "#### PROBLEM STATEMENT:\n",
    "\n",
    "Finding lowest Of Three Numbers ?"
   ]
  },
  {
   "cell_type": "code",
   "execution_count": 6,
   "metadata": {},
   "outputs": [
    {
     "name": "stdout",
     "output_type": "stream",
     "text": [
      "enter the 1st number546\n",
      "enter the 2nd number545\n",
      "enter the 3rd number25\n",
      "c ic lowest\n"
     ]
    }
   ],
   "source": [
    "a= int(input(\"enter the 1st number\"))\n",
    "b= int(input(\"enter the 2nd number\"))\n",
    "c= int(input(\"enter the 3rd number\"))\n",
    "if((a<b)and(a<c)):\n",
    "    print(\"a is lowest\"  )\n",
    "elif((b>a)and(b>c)):\n",
    "    print(\"b is lowest\"  )\n",
    "else:\n",
    "    print(\"c ic lowest\"  )"
   ]
  },
  {
   "cell_type": "markdown",
   "metadata": {},
   "source": [
    "### PROBLEM 3:\n",
    "\n",
    "#### PROBLEM STATEMENT:\n",
    "\n",
    "basic arithmetic operations ?"
   ]
  },
  {
   "cell_type": "code",
   "execution_count": 1,
   "metadata": {},
   "outputs": [
    {
     "name": "stdout",
     "output_type": "stream",
     "text": [
      "enter the 1st number20\n",
      "enter the 2nd number4\n",
      "24\n",
      "16\n",
      "80\n",
      "5.0\n",
      "0\n",
      "160000\n",
      "5\n"
     ]
    }
   ],
   "source": [
    "a=int(input(\"enter the 1st number\"))\n",
    "b=int(input(\"enter the 2nd number\"))\n",
    "def add(a,b):\n",
    "    print(a+b)\n",
    "def sub(a,b):\n",
    "    print(a-b)\n",
    "def mul(a,b):\n",
    "    print(a*b)\n",
    "def div(a,b):\n",
    "    print(a/b)\n",
    "def modula(a,b):\n",
    "    print(a%b)\n",
    "def power(a,b):\n",
    "    print(a**b)\n",
    "def division(a,b):\n",
    "    print(a//b)\n",
    "add(a,b)\n",
    "sub(a,b)\n",
    "mul(a,b)\n",
    "div(a,b)\n",
    "modula(a,b)\n",
    "power(a,b)\n",
    "division(a,b)"
   ]
  },
  {
   "cell_type": "markdown",
   "metadata": {},
   "source": [
    "### PROBLEM 4:\n",
    "\n",
    "#### PROBLEM STATEMENT:\n",
    "Procedure to generate multiplication tables. \n",
    "\n",
    "#### TEST CASES:\n",
    "\n",
    "  MT(3, 5, 7) ->\n",
    "  * 3 X 5 = 15\n",
    "  * 3 X 6 = 18\n",
    "  * 3 X 7 = 21"
   ]
  },
  {
   "cell_type": "code",
   "execution_count": 6,
   "metadata": {},
   "outputs": [
    {
     "name": "stdout",
     "output_type": "stream",
     "text": [
      "2 x 0 = 0\n",
      "2 x 1 = 2\n",
      "2 x 2 = 4\n",
      "2 x 3 = 6\n",
      "2 x 4 = 8\n",
      "2 x 5 = 10\n",
      "2 x 6 = 12\n",
      "2 x 7 = 14\n",
      "2 x 8 = 16\n",
      "2 x 9 = 18\n",
      "2 x 10 = 20\n"
     ]
    }
   ],
   "source": [
    "def multitable(a,b,n):\n",
    "    for b in range(b,n+1):\n",
    "        print(a,\"x\",b,\"=\", a*b)\n",
    "multitable(2,0,10)"
   ]
  },
  {
   "cell_type": "markdown",
   "metadata": {},
   "source": [
    "### PROBLEM 5:\n",
    "\n",
    "#### PROBLEM STATEMENT:\n",
    "\n",
    "Given an int n, return True if it is within 10 of 100 or 200. Note: abs(num) computes the absolute value of a number.\n",
    "\n",
    "\n",
    "#### TEST CASES:\n",
    "\n",
    "* near_hundred(93) → True\n",
    "* near_hundred(90) → True\n",
    "* near_hundred(89) → False"
   ]
  },
  {
   "cell_type": "code",
   "execution_count": 5,
   "metadata": {},
   "outputs": [
    {
     "name": "stdout",
     "output_type": "stream",
     "text": [
      "enter the value-98\n"
     ]
    },
    {
     "data": {
      "text/plain": [
       "True"
      ]
     },
     "execution_count": 5,
     "metadata": {},
     "output_type": "execute_result"
    }
   ],
   "source": [
    "n= int(input(\"enter the value\"))\n",
    "def abs1(n):\n",
    "    var=abs(n)\n",
    "    if((var>=90)and(var<101)or((var>=190)and(var<201))):\n",
    "            return True\n",
    "    else:\n",
    "            return False\n",
    "abs1(n)"
   ]
  },
  {
   "cell_type": "code",
   "execution_count": 41,
   "metadata": {},
   "outputs": [
    {
     "name": "stdout",
     "output_type": "stream",
     "text": [
      "enter the value-98\n"
     ]
    },
    {
     "data": {
      "text/plain": [
       "False"
      ]
     },
     "execution_count": 41,
     "metadata": {},
     "output_type": "execute_result"
    }
   ],
   "source": [
    "n= int(input(\"enter the value\"))\n",
    "def abs1(n):\n",
    "    \n",
    "    if((n>=90)and(n<101)or((n>=190)and(n<201))):\n",
    "            return True\n",
    "    else:\n",
    "            return False\n",
    "abs1(n)"
   ]
  },
  {
   "cell_type": "code",
   "execution_count": 1,
   "metadata": {},
   "outputs": [
    {
     "name": "stdout",
     "output_type": "stream",
     "text": [
      "enter the value100\n"
     ]
    },
    {
     "data": {
      "text/plain": [
       "True"
      ]
     },
     "execution_count": 1,
     "metadata": {},
     "output_type": "execute_result"
    }
   ],
   "source": [
    "n= int(input(\"enter the value\"))\n",
    "def abs1(n):\n",
    "    \n",
    "    if((n>=90)and(n<101)or((n>=190)and(n<201))):\n",
    "            return True\n",
    "    else:\n",
    "            return False\n",
    "abs1(n)"
   ]
  },
  {
   "cell_type": "markdown",
   "metadata": {},
   "source": [
    "### PROBLEM 5:\n",
    "\n",
    "#### PROBLEM STATEMENT:\n",
    "\n",
    " Procedure to print the list of factors of a given number.\n",
    " \n",
    " \n",
    "* FactorList(6) -> 1 2 3 6\n",
    "* FactorList (9) -> 1 3 9\n",
    "* FactorList (19) -> 1 19\n"
   ]
  },
  {
   "cell_type": "code",
   "execution_count": 11,
   "metadata": {},
   "outputs": [
    {
     "name": "stdout",
     "output_type": "stream",
     "text": [
      "enter the value48\n",
      "1\n",
      "2\n",
      "3\n",
      "4\n",
      "6\n",
      "8\n",
      "12\n",
      "16\n",
      "24\n"
     ]
    }
   ],
   "source": [
    "a=int(input(\"enter the value\"))\n",
    "def factors(a):\n",
    "    for i in range(1,a):\n",
    "        if(a%i==0):\n",
    "            print(i)\n",
    "factors(a)"
   ]
  },
  {
   "cell_type": "markdown",
   "metadata": {},
   "source": [
    "# PROBLEM 6:\n",
    "\n",
    "#### PROBLEM STATEMENT:\n",
    "\n",
    "\n",
    "power of a number  ?/ using rwcurssion ?"
   ]
  },
  {
   "cell_type": "code",
   "execution_count": null,
   "metadata": {},
   "outputs": [],
   "source": [
    "# simple\n",
    "a=int(input(\"enter the value\"))\n",
    "r=int(input(\"enter the power value\"))\n",
    "print(a ** r)"
   ]
  },
  {
   "cell_type": "code",
   "execution_count": null,
   "metadata": {},
   "outputs": [],
   "source": [
    "#iterative\n",
    "def power(n,r):\n",
    "    prod = 1\n",
    "    for i in range(1,r+1):\n",
    "        prod *=n\n",
    "    return prod\n",
    "power(2,10)"
   ]
  },
  {
   "cell_type": "code",
   "execution_count": 34,
   "metadata": {},
   "outputs": [
    {
     "data": {
      "text/plain": [
       "1024"
      ]
     },
     "execution_count": 34,
     "metadata": {},
     "output_type": "execute_result"
    }
   ],
   "source": [
    "# recurssion\n",
    "def power1(n,r):\n",
    "    if r == 1:\n",
    "        \n",
    "        return n\n",
    "    else:\n",
    "           return (power1(n,r-1) * n)\n",
    "    \n",
    "power1(2,10)"
   ]
  },
  {
   "cell_type": "markdown",
   "metadata": {},
   "source": [
    "# PROBLEM 8:\n",
    "\n",
    "#### PROBLEM STATEMENT:\n",
    "\n",
    "factorial using recurssion ?"
   ]
  },
  {
   "cell_type": "code",
   "execution_count": 4,
   "metadata": {},
   "outputs": [
    {
     "data": {
      "text/plain": [
       "120"
      ]
     },
     "execution_count": 4,
     "metadata": {},
     "output_type": "execute_result"
    }
   ],
   "source": [
    "def fact(n):\n",
    "    if n==1:\n",
    "        return 1\n",
    "    else:\n",
    "        return(n*(fact(n-1)))\n",
    "fact(5)"
   ]
  },
  {
   "cell_type": "code",
   "execution_count": 7,
   "metadata": {},
   "outputs": [
    {
     "data": {
      "text/plain": [
       "[1, 1, 2, 3, 5, 7, 9]"
      ]
     },
     "execution_count": 7,
     "metadata": {},
     "output_type": "execute_result"
    }
   ],
   "source": [
    "a=[1,5,7,9,2,1,3]\n",
    "sorted(a)"
   ]
  },
  {
   "cell_type": "markdown",
   "metadata": {},
   "source": [
    "# PROBLEM 7:\n",
    "\n",
    "#### PROBLEM STATEMENT:\n",
    "\n",
    "\n",
    "greatest common divisor using recurssion ?"
   ]
  },
  {
   "cell_type": "code",
   "execution_count": 6,
   "metadata": {},
   "outputs": [
    {
     "data": {
      "text/plain": [
       "12"
      ]
     },
     "execution_count": 6,
     "metadata": {},
     "output_type": "execute_result"
    }
   ],
   "source": [
    "def gcd(n,r):\n",
    "    if(r%n==0):\n",
    "        return n\n",
    "    else:\n",
    "        return gcd(r%n,n)\n",
    "gcd(12,48)"
   ]
  },
  {
   "cell_type": "markdown",
   "metadata": {},
   "source": [
    "# PROBLEM 8:\n",
    "\n",
    "#### PROBLEM STATEMENT:\n",
    "\n",
    "Powers of Hanoi Using Recurssion\n",
    "\n",
    "\n",
    "\n",
    "#### Explanation:\n",
    "\n",
    "n disks -> move n-1 from source to temp, move the nth disk from Source to Destination,move n-1 diska from temp to destination.\n",
    "\n",
    "3 disks -> move 2 disks from source to temp,move 3rd disk from source to destination,move 2 disks from temp to destination."
   ]
  },
  {
   "cell_type": "code",
   "execution_count": 26,
   "metadata": {},
   "outputs": [
    {
     "name": "stdout",
     "output_type": "stream",
     "text": [
      "move 1 disk from a disk to b\n",
      "move 1 disk from a disk to b\n",
      "move 1 disk from b disk to c\n",
      "move 2 disk from a disk to c\n",
      "move 1 disk from c disk to a\n",
      "move 1 disk from c disk to a\n",
      "move 1 disk from a disk to b\n",
      "move 3 disk from a disk to b\n",
      "move 1 disk from b disk to c\n",
      "move 1 disk from b disk to c\n",
      "move 1 disk from c disk to a\n",
      "move 2 disk from b disk to a\n",
      "move 1 disk from a disk to b\n",
      "move 1 disk from a disk to b\n",
      "move 1 disk from b disk to c\n"
     ]
    }
   ],
   "source": [
    "def towersofHanoi(n,source,temp,dest):\n",
    "    if n==1:\n",
    "        print('move',n,'disk from',source,'disk to',dest)\n",
    "        return\n",
    "    else:\n",
    "        towersofHanoi(n-1,source,dest,temp)\n",
    "        print('move',n-1,'disk from',source,'disk to',temp)\n",
    "        towersofHanoi(n-1,temp,source,dest)\n",
    "        return\n",
    "        \n",
    "towersofHanoi(4,'a','b','c')  \n",
    "    "
   ]
  },
  {
   "cell_type": "markdown",
   "metadata": {},
   "source": [
    "# PROBLEM 9:\n",
    "\n",
    "#### PROBLEM STATEMENT:\n",
    "\n",
    " Define a function to convert a binary number to the corresponding decimal number\n",
    " \n",
    "#### TEST CASES:\n",
    "\n",
    "* binaryToDecimal(1100) -> 12\n",
    "* binaryToDecimal(1010) -> 10\n",
    "* binaryToDecimal(111000) -> 56"
   ]
  },
  {
   "cell_type": "code",
   "execution_count": 39,
   "metadata": {},
   "outputs": [
    {
     "name": "stdout",
     "output_type": "stream",
     "text": [
      "1000"
     ]
    }
   ],
   "source": [
    "def DecimalToBinary(n):\n",
    "    if(n>1):\n",
    "        DecimalToBinary(n//2)\n",
    "        \n",
    "    print(n%2, end='')\n",
    "DecimalToBinary(8) "
   ]
  },
  {
   "cell_type": "markdown",
   "metadata": {},
   "source": [
    "# PROBLEM 10:\n",
    "\n",
    "#### PROBLEM STATEMENT:\n",
    "\n",
    "\n",
    "FIBONACCI USING RECURSSION:\n"
   ]
  },
  {
   "cell_type": "code",
   "execution_count": 69,
   "metadata": {},
   "outputs": [
    {
     "data": {
      "text/plain": [
       "8"
      ]
     },
     "execution_count": 69,
     "metadata": {},
     "output_type": "execute_result"
    }
   ],
   "source": [
    "def fibonacci(n):\n",
    "    for i in range(n):\n",
    "        if n==0:\n",
    "            return 0\n",
    "        elif n==1:\n",
    "            return 1\n",
    "        elif n==2:\n",
    "            return 1\n",
    "        else:\n",
    "            return fibonacci(n-1)+fibonacci(n-2)\n",
    "           \n",
    "fibonacci(6)\n"
   ]
  },
  {
   "cell_type": "code",
   "execution_count": 63,
   "metadata": {},
   "outputs": [
    {
     "name": "stdout",
     "output_type": "stream",
     "text": [
      "enter n5\n",
      "0\n",
      "1\n",
      "1\n",
      "2\n",
      "3\n"
     ]
    }
   ],
   "source": [
    "\n",
    "n=int(input(\"enter n\"))\n",
    "for i in range(n):\n",
    "    print(fib(i))\n",
    "def fib(n):\n",
    "    if n<=1:\n",
    "        return n\n",
    "    else:\n",
    "        return fib(n-1)+fib(n-2)"
   ]
  },
  {
   "cell_type": "code",
   "execution_count": null,
   "metadata": {},
   "outputs": [],
   "source": []
  }
 ],
 "metadata": {
  "kernelspec": {
   "display_name": "Python 3",
   "language": "python",
   "name": "python3"
  },
  "language_info": {
   "codemirror_mode": {
    "name": "ipython",
    "version": 3
   },
   "file_extension": ".py",
   "mimetype": "text/x-python",
   "name": "python",
   "nbconvert_exporter": "python",
   "pygments_lexer": "ipython3",
   "version": "3.7.3"
  }
 },
 "nbformat": 4,
 "nbformat_minor": 2
}
